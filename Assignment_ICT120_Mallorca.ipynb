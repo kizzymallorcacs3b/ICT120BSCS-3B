{
  "nbformat": 4,
  "nbformat_minor": 0,
  "metadata": {
    "colab": {
      "name": "Assignment_ICT120_Mallorca.ipynb",
      "provenance": [],
      "authorship_tag": "ABX9TyOr50lRT9JxDGAKxgO8jCs9",
      "include_colab_link": true
    },
    "kernelspec": {
      "name": "python3",
      "display_name": "Python 3"
    },
    "language_info": {
      "name": "python"
    }
  },
  "cells": [
    {
      "cell_type": "markdown",
      "metadata": {
        "id": "view-in-github",
        "colab_type": "text"
      },
      "source": [
        "<a href=\"https://colab.research.google.com/github/kizzymallorcacs3b/ICT120BSCS-3B/blob/main/Assignment_ICT120_Mallorca.ipynb\" target=\"_parent\"><img src=\"https://colab.research.google.com/assets/colab-badge.svg\" alt=\"Open In Colab\"/></a>"
      ]
    },
    {
      "cell_type": "code",
      "metadata": {
        "colab": {
          "base_uri": "https://localhost:8080/"
        },
        "id": "G3ACrZJUxPnb",
        "outputId": "c7d4d2d4-4e10-45c4-dc97-5c1850e59d83"
      },
      "source": [
        " #Kizzy S. Mallorca I BSCS 3B\n",
        " \n",
        "import re\n",
        "from nltk.corpus import wordnet\n",
        "import nltk\n",
        "nltk.download('wordnet')"
      ],
      "execution_count": 2,
      "outputs": [
        {
          "output_type": "stream",
          "text": [
            "[nltk_data] Downloading package wordnet to /root/nltk_data...\n",
            "[nltk_data]   Package wordnet is already up-to-date!\n"
          ],
          "name": "stdout"
        },
        {
          "output_type": "execute_result",
          "data": {
            "text/plain": [
              "True"
            ]
          },
          "metadata": {
            "tags": []
          },
          "execution_count": 2
        }
      ]
    },
    {
      "cell_type": "code",
      "metadata": {
        "colab": {
          "base_uri": "https://localhost:8080/"
        },
        "id": "YZH9IlDHxarQ",
        "outputId": "976370d5-4946-4439-a7dd-57b561ad9ad3"
      },
      "source": [
        " list_words=['hello','timings','withdraw','deposit','loan']\n",
        "list_syn={}\n",
        "for word in list_words:\n",
        "    synonyms=[]\n",
        "    for syn in wordnet.synsets(word):\n",
        "        for lem in syn.lemmas():\n",
        "            \n",
        "            lem_name = re.sub('[^a-zA-Z0-9 \\n\\.]', ' ', lem.name())\n",
        "            synonyms.append(lem_name)\n",
        "   \n",
        "    list_syn[word]=set(synonyms)\n",
        "    \n",
        "print (list_syn)"
      ],
      "execution_count": 3,
      "outputs": [
        {
          "output_type": "stream",
          "text": [
            "{'hello': {'hi', 'hullo', 'howdy', 'hello', 'how do you do'}, 'timings': {'timing', 'time', 'clock'}, 'withdraw': {'unsay', 'recall', 'move back', 'take out', 'draw back', 'seclude', 'crawfish', 'back out', 'swallow', 'withdraw', 'sequestrate', 'pull away', 'draw', 'take', 'bow out', 'retire', 'sequester', 'crawfish out', 'pull in one s horns', 'take away', 'pull back', 'call in', 'back away', 'remove', 'draw off', 'retreat', 'recede', 'adjourn', 'take back', 'disengage', 'call back'}, 'deposit': {'repository', 'alluviation', 'down payment', 'fix', 'posit', 'sediment', 'stick', 'deposit', 'depository', 'situate', 'bank', 'bank deposit', 'depositary', 'deposition', 'lodge', 'wedge', 'sedimentation'}, 'loan': {'lend', 'loanword', 'loan'}}\n"
          ],
          "name": "stdout"
        }
      ]
    },
    {
      "cell_type": "code",
      "metadata": {
        "colab": {
          "base_uri": "https://localhost:8080/"
        },
        "id": "MNvD6YkwxfsL",
        "outputId": "bc157c41-cdbb-4db7-ba8b-77ab8daaaef0"
      },
      "source": [
        " keywords={}\n",
        "keywords_dict={}\n",
        " \n",
        "keywords['greet']=[]\n",
        "for synonym in list(list_syn['hello']):\n",
        "    keywords['greet'].append('.*\\\\b'+synonym+'\\\\b.*')\n",
        " \n",
        "keywords['timings']=[]\n",
        "for synonym in list(list_syn['timings']):\n",
        "    keywords['timings'].append('.*\\\\b'+synonym+'\\\\b.*')\n",
        " \n",
        "keywords['withdraw']=[]\n",
        "for synonym in list(list_syn['withdraw']):\n",
        "    keywords['withdraw'].append('.*\\\\b'+synonym+'\\\\b.*')\n",
        " \n",
        "keywords['deposit']=[]\n",
        "for synonym in list(list_syn['deposit']):\n",
        "    keywords['deposit'].append('.*\\\\b'+synonym+'\\\\b.*')\n",
        " \n",
        "keywords['loan']=[]\n",
        "for synonym in list(list_syn['loan']):\n",
        "    keywords['loan'].append('.*\\\\b'+synonym+'\\\\b.*')\n",
        " \n",
        "for intent, keys in keywords.items(): \n",
        "    keywords_dict[intent]=re.compile('|'.join(keys))\n",
        "print (keywords_dict)"
      ],
      "execution_count": null,
      "outputs": [
        {
          "output_type": "stream",
          "text": [
            "{'greet': re.compile('.*\\\\bhow do you do\\\\b.*|.*\\\\bhowdy\\\\b.*|.*\\\\bhi\\\\b.*|.*\\\\bhullo\\\\b.*|.*\\\\bhello\\\\b.*'), 'timings': re.compile('.*\\\\bclock\\\\b.*|.*\\\\btime\\\\b.*|.*\\\\btiming\\\\b.*'), 'withdraw': re.compile('.*\\\\bpull away\\\\b.*|.*\\\\bunsay\\\\b.*|.*\\\\bpull back\\\\b.*|.*\\\\btake out\\\\b.*|.*\\\\bcall back\\\\b.*|.*\\\\btake back\\\\b.*|.*\\\\bswallow\\\\b.*|.*\\\\bdraw\\\\b.*|.*\\\\bcrawfish out\\\\b.*|.*\\\\bcall in\\\\b.*|.*\\\\bmove ), 'deposit': re.compile('.*\\\\bsediment\\\\b.*|.*\\\\bdeposition\\\\b.*|.*\\\\balluviation\\\\b.*|.*\\\\bsedimentation\\\\b.*|.*\\\\bdeposit\\\\b.*|.*\\\\bdown payment\\\\b.*|.*\\\\bdepository\\\\b.*|.*\\\\bstick\\\\b.*|.*\\\\bdepositary\\\\b.*|.*\\\\bwedge\\\\b.), 'loan': re.compile('.*\\\\bloanword\\\\b.*|.*\\\\blend\\\\b.*|.*\\\\bloan\\\\b.*')}\n"
          ],
          "name": "stdout"
        }
      ]
    },
    {
      "cell_type": "code",
      "metadata": {
        "id": "UTca56Q6xkHF"
      },
      "source": [
        " responses={\n",
        "    'greet':'Hello! How can I help you?',\n",
        "    'timings':'We are open from 9AM to 5PM, Monday to Friday. We are closed on weekends and public holidays.',\n",
        "    'withdraw':'Do you wish to withdraw some cash? Please specify the amount',\n",
        "    'deposit':'How much would you like to deposit? Please specify the amount',\n",
        "    'loan':'How much would you like to loan?. Please specify your amount.',\n",
        "    'ask': 'How can I open a bank account?.',\n",
        "    'fallback':'I dont quite understand. Could you repeat that?',\n",
        "}"
      ],
      "execution_count": null,
      "outputs": []
    },
    {
      "cell_type": "code",
      "metadata": {
        "colab": {
          "base_uri": "https://localhost:8080/"
        },
        "id": "Fi1xC7h1xo4d",
        "outputId": "6d3a638c-d8f9-42ae-cde7-dbd291570a38"
      },
      "source": [
        " print (\"Welcome to MyBank. How may I help you?\")\n",
        " \n",
        "while (True):  \n",
        "    \n",
        "    user_input = input().lower()\n",
        "    \n",
        "    if user_input == 'quit': \n",
        "        print (\"Thank you for visiting.\")\n",
        "        break    \n",
        "    \n",
        "    matched_intent = None\n",
        "    \n",
        "    for intent,pattern in keywords_dict.items():\n",
        "        \n",
        "        if re.search(pattern, user_input): \n",
        "            \n",
        "            matched_intent=intent  \n",
        " \n",
        "    key='fallback'\n",
        "    if matched_intent in responses:\n",
        "        \n",
        "        key = matched_intent \n",
        "  \n",
        "    print (responses[key])"
      ],
      "execution_count": null,
      "outputs": [
        {
          "output_type": "stream",
          "text": [
            "Welcome to MyBank. How may I help you?\n",
            "hello\n",
            "Hello! How can I help you?\n",
            "i want to loan\n",
            "How much would you like to loan?. Please specify your amount.\n",
            "quit\n",
            "Thank you for visiting.\n"
          ],
          "name": "stdout"
        }
      ]
    }
  ]
}